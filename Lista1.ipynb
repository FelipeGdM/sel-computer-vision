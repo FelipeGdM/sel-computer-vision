{
 "cells": [
  {
   "cell_type": "markdown",
   "metadata": {
    "colab_type": "text",
    "id": "9mHB0QSGlTkn"
   },
   "source": [
    "# SEL635/SEL5724 - Visão Computacional Aplicada a Robótica"
   ]
  },
  {
   "cell_type": "markdown",
   "metadata": {
    "colab_type": "text",
    "id": "xHM4wwoXnANN"
   },
   "source": [
    "**Aluno:** Preencher com seu nome\n",
    "\n",
    "**NUSP:** Preencher com seu número USP\n",
    "\n",
    "Versão do documento: 1.2"
   ]
  },
  {
   "cell_type": "markdown",
   "metadata": {
    "colab_type": "text",
    "id": "tvWq2vEzBb2D"
   },
   "source": [
    "# Lista 1 - Projeção Perspectiva\n",
    "\n",
    "Um dos propósitos deste exercício é verificar algumas propriedades do modelo de projeção perspectiva, e comparar com o modelo de projeção perspectiva fraca."
   ]
  },
  {
   "cell_type": "markdown",
   "metadata": {
    "colab_type": "text",
    "id": "t_pQ_HmjWLEe"
   },
   "source": [
    "## Parte A: Projeção perspectiva\n",
    "\n",
    "Considere uma câmera sem distorções radiais, com plano de projeção perpendicular ao seu eixo ótico ($\\alpha=0$), distância focal $f$ em $[mm]$, dimensão horizontal e vertical de cada pixel, $s_x$ e $s_y$, dadas em $[mm/px]$, projeção do cento óptico na imagem na posição $(o_x,o_y$ dada em $[px]$. \n",
    "\n",
    "Considere também, conforme indicado na Figura 1, que a origem na imagem é o canto superior esquerdo, que o eixo $\\hat x_{im}$ é o eixo horizontal, e que o eixo $\\hat y_{im}$ é o eixo vertical. Também considere que o eixo da c6amera $\\hat X_c$ está alinhado com a horizontal do plano de projeção, e o eixo da câmera $\\hat Y_c$ está alinhado com a vertical do plano de projeção, conforme também indicado na Figura 1.\n",
    "\n",
    "Utilizando o modelo de projeção perspectiva, complete o código da função `p_im = camera_to_pixel(Pc, f, sx, sy, ox, oy)`. \n",
    "\n",
    "A função recebe como entrada: \n",
    "*   A matriz $P_c$ de tamanho $3 \\times N$, onde cada coluna desta matriz representa a coordenada de um ponto no ambiente, dada em $[mm]$, descrita no sistema de coordenadas da câmera;\n",
    "*   Os parâmetros intrínsecos da câmera: $f$, $s_x$, $s_y$, $o_x$, $o_y$;\n",
    "\n",
    "A função retorna:\n",
    "*   uma matriz $p_{im}$ de dimensão $2 \\times N$, em que cada coluna representa a projeção na imagem dada em $[px]$ do ponto correpondente no ambiente;\n",
    "\n",
    "\n",
    "<div>\n",
    "<img src=\"https://drive.google.com/uc?id=1GjlRR1Ng3KBpZLvHUN0w3pUFRDmoRFCL\" width=\"500\"/>\n",
    "</div>\n",
    "Figura 1 - Sistemas de coordenadas da câmera e da imagem\n",
    " \n",
    "\n",
    " \n"
   ]
  },
  {
   "cell_type": "code",
   "execution_count": null,
   "metadata": {
    "colab": {},
    "colab_type": "code",
    "id": "ju_OgoU2chYd"
   },
   "outputs": [],
   "source": [
    "# Importar as bibliotecas que serão utilizadas\n",
    "import numpy as np\n",
    "import matplotlib.pyplot as plt\n"
   ]
  },
  {
   "cell_type": "markdown",
   "metadata": {
    "colab_type": "text",
    "id": "9v1USQv8B2x-"
   },
   "source": [
    "### A.1 Complete o código a seguir que realiza a projeção perspectiva"
   ]
  },
  {
   "cell_type": "code",
   "execution_count": null,
   "metadata": {
    "colab": {},
    "colab_type": "code",
    "id": "eXssQyFwcIa7"
   },
   "outputs": [],
   "source": [
    "def camera_to_pixel(Pc,f,sx,sy,ox,oy):\n",
    "  (M,N) = np.shape(Pc) # recupera o tamanho da matriz (N linhas, M colunas)\n",
    "  if(M!=3):\n",
    "    print('Aviso: a matriz Pc usada como entrada não possui três linhas!')\n",
    "  \n",
    "  p = np.zeros((2,N))  # Inicializa o vetor p de dimensão 2xN com zeros\n",
    "  p_im = np.zeros((2,N))  # Inicializa o vetor p de dimensão 2xN com zeros\n",
    "\n",
    "  # Encontra a projeção perspectiva p dos pontos P no plano da imagem em [mm]:\n",
    "  p[0] = f*Pc[0]/Pc[2]\n",
    "  p[1] = f*Pc[1]/Pc[2] \n",
    "\n",
    "  # Converte as coordenadas dos pontos p do sistema da câmera em [mm] para o sistema de coordenadas da imagem em [px]:\n",
    "  ###### Coloque aqui o seu código para calcular a matriz p_im #####\n",
    "\n",
    "\n",
    "  ######\n",
    "  \n",
    "  return p_im \n"
   ]
  },
  {
   "cell_type": "markdown",
   "metadata": {
    "colab_type": "text",
    "id": "7XbzfpGVnIkb"
   },
   "source": [
    "## Parte B: Aplicação da Projeção perspectiva\n",
    "\n",
    "Considere que uma câmera posicionada conforme mostra a Figura 2. O eixo óptico da câmera $\\hat Z_c$ é perpendicular à superficie do cubo cujos vértices da face superior são: $P_1$, $P_2$, $P_3$, e $P_4$. Os vértices da face inferior são: $P_5$, $P_6$, $P_7$ e $P_8$. O eixo óptico está posicionado a uma distância $d$ ao longo de $X_w$ a partir do centro da face do cubo.\n",
    "\n",
    "<div>\n",
    "<img src=\"https://drive.google.com/uc?id=1Gb3OEGGL8PG-LV-_9iLsId_s0i6byRuz\" width=\"500\"/>\n",
    "</div>\n",
    "Figura 2 - Câmera observando os vértices de um cubo\n",
    "\n",
    "\n",
    "Considere um cubo com comprimento de aresta $2L$. As coordenadas dos vértices do cubo em relação à câmera são dadas em $[mm]$ por:\n",
    "\n",
    "\\begin{align}\n",
    "&^cP_1 = [-L; -L-d; Z_c] \\\\\n",
    "&^cP_2 = [L; -L-d; Z_c] \\\\\n",
    "&^cP_3 = [L; +L-d; Z_c] \\\\\n",
    "&^cP_4 = [-L; +L-d; Z_c] \\\\\n",
    "&^cP_5 = [-L; -L-d; Z_c+2L] \\\\\n",
    "&^cP_6 = [L; -L-d; Z_c+2L] \\\\\n",
    "&^cP_7 = [L; +L-d; Z_c+2L] \\\\\n",
    "&^cP_8 = [-L; +L-d; Z_c+2L]\n",
    "\\end{align}\n",
    "\n",
    "Também considere que os parâmetros da câmera são: $f=12~mm$, $s_x=s_y=0.01~mm/px$, $o_x=1000~px$, $o_y=1000~px$.\n",
    "\n",
    "A função `plot_imagem_cubo(Zc,d)` a seguir mostra a imagem dos vértices do cubo obtida pela câmera. A face superior do cubo é mostrada em azul, a face inferior é mostrada em vermelho, e os vértices laterais em magenta. Para valor de $L=1000$, $d =0$ e $Z_c = 2000$, as coordenadas dos pontos da face superior na imagem em $[px]$ devem ser:\n",
    "\n",
    "```\n",
    "p_im_sup = \n",
    " [[1600.  400.  400. 1600. 1600.]\n",
    " [1600. 1600.  400.  400. 1600.]]\n",
    "```\n",
    "\n"
   ]
  },
  {
   "cell_type": "code",
   "execution_count": null,
   "metadata": {
    "colab": {
     "base_uri": "https://localhost:8080/",
     "height": 626
    },
    "colab_type": "code",
    "id": "mEwymwk5lSI2",
    "outputId": "10fc5dcb-e7d2-404c-81d0-1a2588790180"
   },
   "outputs": [
    {
     "name": "stdout",
     "output_type": "stream",
     "text": [
      "Mostrando resultado para os parâmetros:\n",
      "L= 1000  Zc= 2000  d= 0  f= 12  sx= 0.01  sy= 0.01  ox= 1000  oy= 1000 \n",
      "\n",
      "P_sup = \n",
      " [[-1000  1000  1000 -1000 -1000]\n",
      " [-1000 -1000  1000  1000 -1000]\n",
      " [ 2000  2000  2000  2000  2000]] \n",
      "\n",
      "P_inf = \n",
      " [[-1000  1000  1000 -1000 -1000]\n",
      " [-1000 -1000  1000  1000 -1000]\n",
      " [ 3000  3000  3000  3000  3000]] \n",
      "\n",
      "p_im_sup = \n",
      " [[0. 0. 0. 0. 0.]\n",
      " [0. 0. 0. 0. 0.]] \n",
      "\n",
      "p_im_inf = \n",
      " [[0. 0. 0. 0. 0.]\n",
      " [0. 0. 0. 0. 0.]] \n",
      "\n"
     ]
    },
    {
     "data": {
      "image/png": "[encoded data removed]",
      "text/plain": [
       "<Figure size 432x288 with 1 Axes>"
      ]
     },
     "metadata": {
      "needs_background": "light",
      "tags": []
     },
     "output_type": "display_data"
    }
   ],
   "source": [
    "def plot_imagem_cubo(L,Zc,d):\n",
    "  # Define os parâmetros da câmera\n",
    "  f=12\n",
    "  sx=0.01\n",
    "  sy=0.01\n",
    "  ox=1000\n",
    "  oy=1000\n",
    "\n",
    "  print('Mostrando resultado para os parâmetros:')\n",
    "  print('L=',L,' Zc=',Zc,' d=',d,' f=',f,' sx=',sx,' sy=',sy,' ox=',ox,' oy=',oy,'\\n')\n",
    "\n",
    "  # Definindo cada ponto como um vetor unidimensional usando a biblioteca numpy\n",
    "  P1 = np.array([-L, -L-d, Zc])\n",
    "  P2 = np.array([L, -L-d, Zc])\n",
    "  P3 = np.array([L, L-d, Zc])\n",
    "  P4 = np.array([-L, L-d, Zc])\n",
    "  P5 = np.array([-L, -L-d, Zc+2*L])\n",
    "  P6 = np.array([L, -L-d, Zc+2*L])\n",
    "  P7 = np.array([L, L-d, Zc+2*L])\n",
    "  P8 = np.array([-L, L-d, Zc+2*L])\n",
    "\n",
    "  # Mostra as coordenadas dos vértices na face superior\n",
    "  #print('P1 = ',P1)\n",
    "  #print('P2 = ',P2)\n",
    "  #print('P3 = ',P3)\n",
    "  #print('P4 = ',P4)\n",
    "\n",
    "  # Rearranjando os dados para uma matriz onde cada coluna é um dos pontos\n",
    "  Pc_sup = np.column_stack((P1,P2,P3,P4,P1))  # P1 foi adicionado no final para que a última aresta possa ser plotada\n",
    "  print('P_sup = \\n',Pc_sup,'\\n')\n",
    "  Pc_inf = np.column_stack((P5,P6,P7,P8,P5))  # P1 foi adicionado no final para que a última aresta possa ser plotada\n",
    "  print('P_inf = \\n',Pc_inf,'\\n')\n",
    "\n",
    "  # Observe que Pc são as coordenadas dos pontos 3D no sistema de coordenadas da câmera\n",
    "  # Faz a projeção perspectiva dos pontos 3D obtendo as coordenadas em px dos pontos na imagem\n",
    "  p_im_sup = camera_to_pixel(Pc_sup,f,sx,sy,ox,oy)\n",
    "  print('p_im_sup = \\n',p_im_sup,'\\n')\n",
    "  p_im_inf = camera_to_pixel(Pc_inf,f,sx,sy,ox,oy)\n",
    "  print('p_im_inf = \\n',p_im_inf,'\\n')\n",
    "\n",
    "  # Faz o plot dos pontos\n",
    "  plt.figure()  # Cria uma nova figura\n",
    "  plt.plot(p_im_sup[0],p_im_sup[1],'bo-') # Plota a face superior em azul\n",
    "  plt.axis([0, 2*ox, 0, 2*oy]) # Define os limites da imagem considerando ox e oy no centro\n",
    "  plt.gca().invert_yaxis() # inverte o eixo y para que a origem fique no canto superior esquerdo\n",
    "  plt.gca().grid(True, linestyle='-.') # mostra grid\n",
    "  plt.gca().set_aspect('equal') # mostra eixo x e y com a mesma relação de aspecto\n",
    "\n",
    "  # Desenha a face inferior\n",
    "  plt.plot(p_im_inf[0],p_im_inf[1],'ro-')  # Plota a face inferior em vermelho\n",
    "\n",
    "  # Desenha as arestas laterais\n",
    "  plt.plot([p_im_sup[0][0], p_im_inf[0][0]],[p_im_sup[1][0], p_im_inf[1][0]],'m-') \n",
    "  plt.plot([p_im_sup[0][1], p_im_inf[0][1]],[p_im_sup[1][1], p_im_inf[1][1]],'m-') \n",
    "  plt.plot([p_im_sup[0][2], p_im_inf[0][2]],[p_im_sup[1][2], p_im_inf[1][2]],'m-') \n",
    "  plt.plot([p_im_sup[0][3], p_im_inf[0][3]],[p_im_sup[1][3], p_im_inf[1][3]],'m-') \n",
    "\n",
    "\n",
    "# Executar a função com os parâmetros desejados\n",
    "plot_imagem_cubo(L=1000, Zc = 2000,d = 0)\n"
   ]
  },
  {
   "cell_type": "markdown",
   "metadata": {
    "colab_type": "text",
    "id": "IQV5mBdFbFNd"
   },
   "source": [
    "### B.1 Quais propriedades da projeção perpectiva é possível observar no exemplo acima?\n",
    "\n",
    "Resposta:\n"
   ]
  },
  {
   "cell_type": "markdown",
   "metadata": {
    "colab_type": "text",
    "id": "YFGEmWJGcQJY"
   },
   "source": [
    "## Parte C: Perspectiva Fraca\n",
    "\n",
    "O modelo de projeção perspectiva fraca considera que todos os pontos observados estão em um mesmo plano, perpendicular ao plano de projeção, e a uma distância $\\overline Z$ da câmera. Sendo que $\\overline Z$ é a média das coordenadas $^cZ$ dos pontos observados no ambiente em relação ao sistema de coordenada da câmera.\n",
    "\n",
    "O modelo de projeção perspectiva fraca pode ser entendido como sendo uma projeção ortográfica seguida de um escalonamento isotrópico. Na projeção ortográfica, os pontos são projetados no plano de projeção através de retas paralelas ao eixo óptico. Em seguida, o escalonamento isotrópico aplica um fator de escala em todos os pontos considerando a distância focal e o $\\overline Z$. \n",
    "\n",
    "Modifique a função `camera_to_pixel(Pc,f,sx,sy,ox,oy)` definida na Parte A, para implementar a função `camera_to_pixel_fraca(Pc,f,sx,sy,ox,oy)` que aplica o modelo de projeção perspectiva fraca para encontrar as coordenadas dos pontos na imagem. Teste para o mesmo caso testado na parte B.\n",
    "\n",
    "Para valor de $L=1000$, $d =0$ e $Z_c = 2000$, as coordenadas dos 8 pontos (P1 a P8) devem ser: \n",
    "\n",
    "```\n",
    "p_im = \n",
    " [[1400.  600.  600. 1400. 1400.  600.  600. 1400.]\n",
    " [1400. 1400.  600.  600. 1400. 1400.  600.  600.]] \n",
    "```\n",
    "\n"
   ]
  },
  {
   "cell_type": "markdown",
   "metadata": {
    "colab_type": "text",
    "id": "Pmh2BZ-XCon7"
   },
   "source": [
    "### C.1 Complete o código a seguir que realiza a perspectiva fraca"
   ]
  },
  {
   "cell_type": "code",
   "execution_count": null,
   "metadata": {
    "colab": {},
    "colab_type": "code",
    "id": "P9KKToEyfOZU"
   },
   "outputs": [],
   "source": [
    "def camera_to_pixel_fraca(Pc,f,sx,sy,ox,oy):\n",
    "  (M,N) = np.shape(Pc) # recupera o tamanho da matriz (N linhas, M colunas)\n",
    "  if(M!=3):\n",
    "    print('Aviso: a matriz Pc usada como entrada não possui três linhas!')\n",
    "  \n",
    "  p = np.zeros((2,N))  # Inicializa o vetor p de dimensão 2xN com zeros\n",
    "  p_im = np.zeros((2,N))  # Inicializa o vetor p de dimensão 2xN com zeros\n",
    "\n",
    "  # Encontra a projeção perspectiva fraca p dos pontos P no plano da imagem em [mm]:\n",
    "  ######################################################################\n",
    "  ##### Implemente seu código aqui\n",
    "\n",
    "\n",
    "\n",
    "  ######################################################################\n",
    "\n",
    "  # Converte as coordenadas dos pontos p do sistema da câmera em [mm] para o sistema de coordenadas da imagem em [px]:\n",
    "  ###### Coloque aqui o seu código para calcular a matriz p_im #####\n",
    "\n",
    "\n",
    "\n",
    "  ######\n",
    "  \n",
    "  return p_im "
   ]
  },
  {
   "cell_type": "code",
   "execution_count": null,
   "metadata": {
    "colab": {
     "base_uri": "https://localhost:8080/",
     "height": 609
    },
    "colab_type": "code",
    "id": "cDrUGVPagNlM",
    "outputId": "2a7b8613-3c6c-4ce7-d224-1edb29e9a9be"
   },
   "outputs": [
    {
     "name": "stdout",
     "output_type": "stream",
     "text": [
      "Mostrando resultado para os parâmetros:\n",
      "L= 1000  Zc= 2000  d= 0  f= 12  sx= 0.01  sy= 0.01  ox= 1000  oy= 1000 \n",
      "\n",
      "Pc = \n",
      " [[-1000  1000  1000 -1000 -1000  1000  1000 -1000]\n",
      " [-1000 -1000  1000  1000 -1000 -1000  1000  1000]\n",
      " [ 2000  2000  2000  2000  3000  3000  3000  3000]] \n",
      "\n",
      "p_im = \n",
      " [[0. 0. 0. 0. 0. 0. 0. 0.]\n",
      " [0. 0. 0. 0. 0. 0. 0. 0.]] \n",
      "\n",
      "p_im_sup = \n",
      " [[0. 0. 0. 0. 0.]\n",
      " [0. 0. 0. 0. 0.]] \n",
      "\n",
      "p_im_inf = \n",
      " [[0. 0. 0. 0. 0.]\n",
      " [0. 0. 0. 0. 0.]] \n",
      "\n"
     ]
    },
    {
     "data": {
      "image/png": "[encoded data removed]",
      "text/plain": [
       "<Figure size 432x288 with 1 Axes>"
      ]
     },
     "metadata": {
      "needs_background": "light",
      "tags": []
     },
     "output_type": "display_data"
    }
   ],
   "source": [
    "def plot_imagem_cubo_fraca(L,Zc,d):\n",
    "  # Define os parâmetros da câmera\n",
    "  f=12\n",
    "  sx=0.01\n",
    "  sy=0.01\n",
    "  ox=1000\n",
    "  oy=1000\n",
    "\n",
    "  print('Mostrando resultado para os parâmetros:')\n",
    "  print('L=',L,' Zc=',Zc,' d=',d,' f=',f,' sx=',sx,' sy=',sy,' ox=',ox,' oy=',oy,'\\n')\n",
    "\n",
    "  # Definindo cada ponto como um vetor unidimensional usando a biblioteca numpy\n",
    "  P1 = np.array([-L, -L-d, Zc])\n",
    "  P2 = np.array([L, -L-d, Zc])\n",
    "  P3 = np.array([L, L-d, Zc])\n",
    "  P4 = np.array([-L, L-d, Zc])\n",
    "  P5 = np.array([-L, -L-d, Zc+2*L])\n",
    "  P6 = np.array([L, -L-d, Zc+2*L])\n",
    "  P7 = np.array([L, L-d, Zc+2*L])\n",
    "  P8 = np.array([-L, L-d, Zc+2*L])\n",
    "\n",
    "  # Rearranjando os dados para uma matriz onde cada coluna é um dos pontos.\n",
    "  # Para que o modelo de perspectiva fraca calcule a média da coordenada Z, \n",
    "  # todos os pontos devem ser passados de uma vez.\n",
    "  Pc = np.column_stack((P1,P2,P3,P4,P5,P6,P7,P8))  \n",
    "  print('Pc = \\n',Pc,'\\n')\n",
    "  \n",
    "  # Observe que Pc são as coordenadas dos pontos 3D no sistema de coordenadas da câmera\n",
    "  # Faz a projeção perspectiva dos pontos 3D obtendo as coordenadas em pixel dos pontos na imagem\n",
    "  p_im = camera_to_pixel_fraca(Pc,f,sx,sy,ox,oy)\n",
    "  print('p_im = \\n',p_im,'\\n')\n",
    "  \n",
    "  # Faz o plot dos pontos\n",
    "  plt.figure()  # Cria uma nova figura\n",
    "  p_im_sup = np.column_stack((p_im[:,0:4],p_im[:,0].reshape(-1,1))) # Monta a sequencia de pontos (p1, p2, p3, p4, p1)\n",
    "  print('p_im_sup = \\n',p_im_sup,'\\n')\n",
    "  p_im_inf = np.column_stack((p_im[:,4:],p_im[:,4].reshape(-1,1))) # Monta a sequencia de pontos (p5, p6, p7, p8, p5)\n",
    "  print('p_im_inf = \\n',p_im_inf,'\\n')\n",
    "  plt.plot(p_im_sup[0],p_im_sup[1],'bo-') # Plota a face superior em azul\n",
    "  plt.axis([0, 2*ox, 0, 2*oy]) # Define os limites da imagem considerando ox e oy no centro\n",
    "  plt.gca().invert_yaxis() # inverte o eixo y para que a origem fique no canto superior esquerdo\n",
    "  plt.gca().grid(True, linestyle='-.') # mostra grid\n",
    "  plt.gca().set_aspect('equal') # mostra eixo x e y com a mesma relação de aspecto\n",
    "\n",
    "  # Desenha a face inferior\n",
    "  plt.plot(p_im_inf[0],p_im_inf[1],'ro--')  # Plota a face inferior em vermelho\n",
    "\n",
    "  # Desenha as arestas laterais\n",
    "  plt.plot([p_im_sup[0][0], p_im_inf[0][0]],[p_im_sup[1][0], p_im_inf[1][0]],'m-') \n",
    "  plt.plot([p_im_sup[0][1], p_im_inf[0][1]],[p_im_sup[1][1], p_im_inf[1][1]],'m-') \n",
    "  plt.plot([p_im_sup[0][2], p_im_inf[0][2]],[p_im_sup[1][2], p_im_inf[1][2]],'m-') \n",
    "  plt.plot([p_im_sup[0][3], p_im_inf[0][3]],[p_im_sup[1][3], p_im_inf[1][3]],'m-') \n",
    "\n",
    "\n",
    "# Executar a função com os parâmetros desejados\n",
    "plot_imagem_cubo_fraca(L=1000, Zc = 2000,d = 0)\n"
   ]
  },
  {
   "cell_type": "markdown",
   "metadata": {
    "colab_type": "text",
    "id": "t6euI37d7Qff"
   },
   "source": [
    "### C.2 Para o caso do teste anterior ($Z_c = 2000$) a projeção perspectiva fraca pode ser considerada uma boa aproximação da projeção perspectiva? Por que?\n",
    "\n",
    "Responda aqui, e remova esse parágrafo, substituindo com sua resposta. Justifique com base na diferença entre as coordenadas dos pontos na imagem obtida através dos dois tipos de projeção. Calcule e faça o print do erro entre as projeções no trecho de código a seguir."
   ]
  },
  {
   "cell_type": "code",
   "execution_count": null,
   "metadata": {
    "colab": {},
    "colab_type": "code",
    "id": "QLlAhSx-8kyT"
   },
   "outputs": [],
   "source": [
    "########################################\n",
    "# Adicione um código aqui que calcula e mostra o print do valor da diferença entre \n",
    "# a projeção perspectiva e a projeção perspectiva fraca para Zc = 2000\n",
    "\n",
    "\n",
    "\n",
    "#######################################"
   ]
  },
  {
   "cell_type": "markdown",
   "metadata": {
    "colab_type": "text",
    "id": "XvljsPJ89v9G"
   },
   "source": [
    "### C.3 Para o caso considerado ($L=1000$, $d=0$), qual a faixa de valores de $Z_c$ para o qual a projeção perspectiva fraca se aproxima da projeção perspectiva? Mostre os resultados para um valor de $Z_c$ dentro dessa faixa.\n",
    "\n",
    "Responda aqui, e remova esse parágrafo, substituindo com sua resposta.  Mostre o plot das duas projeções. Calcule e faça o print do erro entre as projeções no trecho de código a seguir. "
   ]
  },
  {
   "cell_type": "code",
   "execution_count": null,
   "metadata": {
    "colab": {},
    "colab_type": "code",
    "id": "Po56zsd6_Trp"
   },
   "outputs": [],
   "source": [
    "########################################\n",
    "# Adicione um código aqui que mostra o plot das duas projeções para o Zc escolhido\n",
    "\n",
    "\n",
    "\n",
    "#######################################\n",
    "\n",
    "########################################\n",
    "# Adicione um código aqui que calcula e mostra o print do valor da diferença entre \n",
    "# a projeção perspectiva e a projeção perspectiva fraca para o Zc escolhido\n",
    "\n",
    "\n",
    "\n",
    "#######################################"
   ]
  },
  {
   "cell_type": "code",
   "execution_count": null,
   "metadata": {
    "colab": {},
    "colab_type": "code",
    "id": "YgwHM0iiDEPu"
   },
   "outputs": [],
   "source": []
  }
 ],
 "metadata": {
  "colab": {
   "name": "Lista1.ipynb",
   "provenance": [],
   "toc_visible": true
  },
  "kernelspec": {
   "display_name": "Python 3",
   "language": "python",
   "name": "python3"
  },
  "language_info": {
   "codemirror_mode": {
    "name": "ipython",
    "version": 3
   },
   "file_extension": ".py",
   "mimetype": "text/x-python",
   "name": "python",
   "nbconvert_exporter": "python",
   "pygments_lexer": "ipython3",
   "version": "3.8.2"
  }
 },
 "nbformat": 4,
 "nbformat_minor": 1
}
